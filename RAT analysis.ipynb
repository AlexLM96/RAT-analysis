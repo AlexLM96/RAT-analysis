{
 "cells": [
  {
   "cell_type": "code",
   "execution_count": 1,
   "metadata": {},
   "outputs": [
    {
     "data": {
      "text/plain": [
       "'This notebook is meant to help analyze data obtain through the Rodent Arena Tracker (RAT) device. \\nThis notebook will be gradually updated with more functions.'"
      ]
     },
     "execution_count": 1,
     "metadata": {},
     "output_type": "execute_result"
    }
   ],
   "source": [
    "\"\"\"This notebook is meant to help analyze data obtain through the Rodent Arena Tracker (RAT) device. \n",
    "This notebook will be gradually updated with more functions.\"\"\""
   ]
  },
  {
   "cell_type": "markdown",
   "metadata": {},
   "source": [
    "# Importing data"
   ]
  },
  {
   "cell_type": "code",
   "execution_count": 3,
   "metadata": {},
   "outputs": [],
   "source": [
    "#Converting the CSV output file to numpy. For now, the CSV file has to be slightly modified:\n",
    "#Titles should be deleted, as well as the column with the timestamps. \n",
    "#In the future, this will be updated to accept the file as is."
   ]
  },
  {
   "cell_type": "code",
   "execution_count": 2,
   "metadata": {},
   "outputs": [],
   "source": [
    "import csv\n",
    "import numpy as np\n",
    "import matplotlib.pyplot as plt\n",
    "\n",
    "def rat_data(data):\n",
    "    xcoord = []\n",
    "    ycoord = []\n",
    "    ttl = []\n",
    "    speed = []\n",
    "    #date_time = []\n",
    "    with open(data) as csvDataFile:\n",
    "        data = csv.reader(csvDataFile)\n",
    "        for row in data:\n",
    "            xcoord.append(row[1])\n",
    "            ycoord.append(row[2])\n",
    "            ttl.append(row[4])\n",
    "            speed.append(row[3])\n",
    "            #date_time.append(row[0])\n",
    "        \n",
    "    data_1 = np.array((xcoord, ycoord, ttl, speed))\n",
    "    data_1 = data_1.T\n",
    "\n",
    "    ldata_x = []\n",
    "    ldata_y = []\n",
    "    ldata_ttl = []\n",
    "    lndata_ttl = []\n",
    "    ldata_speed = []\n",
    "    #ldata_date = []\n",
    "    \n",
    "    for row in data_1:\n",
    "        ldata_x.append(int(row[0]))\n",
    "        ldata_y.append(int(row[1]))\n",
    "        ldata_ttl.append(str(row[2]))\n",
    "        ldata_speed.append(int(row[3]))\n",
    "        #ldata_date.append(int(row[4]))\n",
    "        \n",
    "    for i in ldata_ttl:\n",
    "        if i == 'TRUE':\n",
    "            lndata_ttl.append(1)\n",
    "        elif i == 'FALSE':\n",
    "            lndata_ttl.append(0)\n",
    "        \n",
    "    data_2 = np.array((ldata_x, ldata_y, lndata_ttl, ldata_speed, ldata_date))\n",
    "    data_np = data_2.T\n",
    "    print(\"Your data has been stored as: data_np\")"
   ]
  },
  {
   "cell_type": "markdown",
   "metadata": {},
   "source": [
    "# General Functions"
   ]
  },
  {
   "cell_type": "code",
   "execution_count": null,
   "metadata": {},
   "outputs": [],
   "source": [
    "#Plotting the speed of the mouse over time."
   ]
  },
  {
   "cell_type": "code",
   "execution_count": null,
   "metadata": {},
   "outputs": [],
   "source": [
    "plt.plot(data)"
   ]
  },
  {
   "cell_type": "markdown",
   "metadata": {},
   "source": [
    "# Open Field: The following functions will help to analyze open field data."
   ]
  },
  {
   "cell_type": "code",
   "execution_count": 4,
   "metadata": {},
   "outputs": [],
   "source": [
    "#Plotting the mouse trajectory. This function will return a graph with a representation of the open field arena \n",
    "#with outer and inner areas and the trajectory of the mouse.\n",
    "#Note: Currently the draawing of the areas is not perfect. The lines can be manually adjusted by modifying the \n",
    "#ymin, ymax, xmin, xmax parameters in the function."
   ]
  },
  {
   "cell_type": "code",
   "execution_count": 5,
   "metadata": {},
   "outputs": [],
   "source": [
    "def of_plot(data, ttl = False):\n",
    "    \n",
    "    #Setting up an inner area that is 50% of total area\n",
    "    xmax1 = max(data[:, 0])\n",
    "    xmin1 = min(data[:, 0])\n",
    "    ymin1 = min(data[:, 1])\n",
    "    ymax1 = max(data[:, 1])\n",
    "    xin_rect = xmax1 / 4\n",
    "    yin_rect = ymax1 / 4\n",
    "    start_x = xmin1 + xin_rect\n",
    "    end_x = xmax1 - xin_rect\n",
    "    start_y = ymin1 + yin_rect\n",
    "    end_y = ymax1 - yin_rect\n",
    "    \n",
    "    #Plotting the data\n",
    "    plt.plot(data[:,0], data[:,1], alpha = 0.8)\n",
    "    #Inner area drawing\n",
    "    plt.axvline(start_x, ymin = 0.28, ymax = 0.72, color = 'r', linestyle = '-', linewidth = 3)\n",
    "    plt.axvline(end_x, ymin = 0.28, ymax = 0.72, color = 'r', linestyle = '-', linewidth = 3)\n",
    "    plt.axhline(start_y, xmin = 0.3, xmax = 0.7, color = 'r', linestyle = '-', linewidth = 3)\n",
    "    plt.axhline(end_y, xmin = 0.3, xmax = 0.7, color = 'r', linestyle = '-', linewidth = 3)\n",
    "    #Outer area drawing\n",
    "    plt.axvline(xmin1, ymin = 0.045, ymax = 0.95, color = 'black', linestyle = '-', linewidth = 3)\n",
    "    plt.axvline(xmax1, ymin = 0.045, ymax = 0.955, color = 'black', linestyle = '-', linewidth = 3)\n",
    "    plt.axhline(ymin1, xmin = 0.045, xmax = 0.95, color = 'black', linestyle = '-', linewidth = 3)\n",
    "    plt.axhline(ymax1, xmin = 0.045, xmax = 0.95, color = 'black', linestyle = '-', linewidth = 3)\n",
    "          \n",
    "    #Plotting TTL pulses\n",
    "    if ttl  == True:\n",
    "        for row in data:\n",
    "            if row[2] == 1:\n",
    "                plt.scatter(row[0], row[1])"
   ]
  },
  {
   "cell_type": "code",
   "execution_count": null,
   "metadata": {},
   "outputs": [],
   "source": [
    "#The following function calculates the amount of time the mouse spent in the inner and outer area.\n",
    "#The code is set to analyze 15 frames/second. This can be modified by adjusting the denominator in time_inner, time_outer"
   ]
  },
  {
   "cell_type": "code",
   "execution_count": 6,
   "metadata": {},
   "outputs": [],
   "source": [
    "def of_time_inout(data):    \n",
    "    #Setting up an inner area that is 50% of total area\n",
    "    xmax1 = max(data[:, 0])\n",
    "    xmin1 = min(data[:, 0])\n",
    "    ymin1 = min(data[:, 1])\n",
    "    ymax1 = max(data[:, 1])\n",
    "    xin_rect = xmax1 / 4\n",
    "    yin_rect = ymax1 / 4\n",
    "    start_x = xmin1 + xin_rect\n",
    "    end_x = xmax1 - xin_rect\n",
    "    start_y = ymin1 + yin_rect\n",
    "    end_y = ymax1 - yin_rect\n",
    "\n",
    "    count_in = 0\n",
    "    total_frames = 0\n",
    "\n",
    "    for row in data:   \n",
    "        total_frames += 1\n",
    "        xvalue = start_x <= row[0] <= end_x\n",
    "        yvalue = start_y <= row[1] <= end_y\n",
    "        if (xvalue and yvalue) == True:\n",
    "            count_in += 1\n",
    "\n",
    "    count_out = total_frames - count_in\n",
    "        \n",
    "    time_inner = round(count_in / 15)\n",
    "    time_outer = round(count_out / 15)\n",
    "    print('Seconds spent in inner area: ', time_inner)\n",
    "    print('Seconds spent in outer area: ', time_outer)"
   ]
  },
  {
   "cell_type": "code",
   "execution_count": null,
   "metadata": {},
   "outputs": [],
   "source": [
    "#The following function calculates how many times the mouse entered the inner area. "
   ]
  },
  {
   "cell_type": "code",
   "execution_count": null,
   "metadata": {},
   "outputs": [],
   "source": [
    "def of_entries(data):\n",
    "    #Setting up an inner area that is 50% of total area\n",
    "    xmax1 = max(data[:, 0])\n",
    "    xmin1 = min(data[:, 0])\n",
    "    ymin1 = min(data[:, 1])\n",
    "    ymax1 = max(data[:, 1])\n",
    "    xin_rect = xmax1 / 4\n",
    "    yin_rect = ymax1 / 4\n",
    "    start_x = xmin1 + xin_rect\n",
    "    end_x = xmax1 - xin_rect\n",
    "    start_y = ymin1 + yin_rect\n",
    "    end_y = ymax1 - yin_rect\n",
    "    \n",
    "    #Here we want to know the frames in which the mouse is in the inner area\n",
    "    l_data = np.ndarray.tolist(data)\n",
    "    \n",
    "    for rlist in l_data:\n",
    "        if start_x <= rlist[0] <= end_x:\n",
    "            rlist.append(1)\n",
    "        else:\n",
    "            rlist.append(0)\n",
    "        if start_y <= rlist[1] <= end_y:\n",
    "            rlist.append(1)\n",
    "        else:\n",
    "            rlist.append(0)\n",
    "        if rlist[2] == 1 and rlist[3] == 1:\n",
    "            rlist.append(1)\n",
    "        else:\n",
    "            rlist.append(0)\n",
    "    \n",
    "    #Here we slice the list to have a list that only shows whether the mouse was in (1) or out (0) in each frame\n",
    "    a_data = np.array(l_data)\n",
    "    frame_in = a_data[:,4]\n",
    "    lframe_in = np.ndarray.tolist(frame_in)\n",
    "    \n",
    "    #Here we count the number of times the mouse passed from being in the outer area to the inner area\n",
    "    number_in = 0\n",
    "    \n",
    "    for i in range(0, len(lframe_in) - 2):\n",
    "        if (lframe_in[i] == 0) and (lframe_in[i+1] != lframe_in[i]):\n",
    "            number_in += 1\n",
    "            \n",
    "    print(\"Number of entries to inner zone: \", number_in)\n",
    "            "
   ]
  },
  {
   "cell_type": "code",
   "execution_count": null,
   "metadata": {},
   "outputs": [],
   "source": [
    "#The following function calculates the distance travelled by the mouse.\n",
    "#Note: Currently, the ouput of this function is in pixels. \n",
    "#In the future, we hope to introduce a calibration step, in which by entering the measurements of the arena\n",
    "#the distance can be converted to something more useful"
   ]
  },
  {
   "cell_type": "code",
   "execution_count": null,
   "metadata": {},
   "outputs": [],
   "source": [
    "def of_tdistance(data):\n",
    "    from math import sqrt\n",
    "\n",
    "    t_distance = 0 \n",
    "    current_x = 0\n",
    "    current_y = 0\n",
    "    \n",
    "    for row in data:\n",
    "        delta_x = 0\n",
    "        delta_y = 0\n",
    "        distance = 0\n",
    "        if current_x != 0 and current_y != 0:\n",
    "            delta_x = abs(current_x - row[0])\n",
    "            delta_y = abs(current_y - row[1])\n",
    "            distance = sqrt((delta_x ** 2) + (delta_y ** 2))\n",
    "            t_distance += distance\n",
    "        elif current_x == 0 and current_y == 0:\n",
    "            current_x = row[0]\n",
    "            current_y = row[1]\n",
    "            \n",
    "    print(\"Total distance travelled: \", t_distance , \"pixels\")"
   ]
  },
  {
   "cell_type": "markdown",
   "metadata": {},
   "source": [
    "# Coming up: Real-time place preference (RTTP)"
   ]
  }
 ],
 "metadata": {
  "kernelspec": {
   "display_name": "Python 3",
   "language": "python",
   "name": "python3"
  },
  "language_info": {
   "codemirror_mode": {
    "name": "ipython",
    "version": 3
   },
   "file_extension": ".py",
   "mimetype": "text/x-python",
   "name": "python",
   "nbconvert_exporter": "python",
   "pygments_lexer": "ipython3",
   "version": "3.7.4"
  }
 },
 "nbformat": 4,
 "nbformat_minor": 2
}
